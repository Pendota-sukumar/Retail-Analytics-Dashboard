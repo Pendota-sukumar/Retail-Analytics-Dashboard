{
  "nbformat": 4,
  "nbformat_minor": 0,
  "metadata": {
    "colab": {
      "provenance": [],
      "mount_file_id": "1Yn9EdSeiHyRI7Fmly5oSQe4mSeXJ32aq",
      "authorship_tag": "ABX9TyNMIa1Vqy+L5QIC+NunttkC",
      "include_colab_link": true
    },
    "kernelspec": {
      "name": "python3",
      "display_name": "Python 3"
    },
    "language_info": {
      "name": "python"
    }
  },
  "cells": [
    {
      "cell_type": "markdown",
      "metadata": {
        "id": "view-in-github",
        "colab_type": "text"
      },
      "source": [
        "<a href=\"https://colab.research.google.com/github/Pendota-sukumar/Retail-Analytics-Dashboard/blob/main/Retail_%26_E_Commerce_Analytics_Dashboard.ipynb\" target=\"_parent\"><img src=\"https://colab.research.google.com/assets/colab-badge.svg\" alt=\"Open In Colab\"/></a>"
      ]
    },
    {
      "cell_type": "code",
      "source": [
        "import pandas as pd\n",
        "\n",
        "# File path\n",
        "file_path = \"/content/drive/MyDrive/Projects/Data files/Sample - Superstore.csv\"\n",
        "\n",
        "# Load with correct encoding\n",
        "df = pd.read_csv(file_path, encoding=\"latin1\")\n",
        "\n",
        "# Preview data\n",
        "print(df.head())\n",
        "\n",
        "# --- Cleaning ---\n",
        "# Remove duplicates\n",
        "df.drop_duplicates(inplace=True)\n",
        "\n",
        "# Fill missing numeric values with 0\n",
        "num_cols = [\"Sales\", \"Profit\", \"Discount\", \"Quantity\"]\n",
        "for col in num_cols:\n",
        "    if col in df.columns:\n",
        "        df[col].fillna(0, inplace=True)\n",
        "\n",
        "# Convert date columns\n",
        "df['Order Date'] = pd.to_datetime(df['Order Date'], errors='coerce')\n",
        "df['Ship Date'] = pd.to_datetime(df['Ship Date'], errors='coerce')\n",
        "\n",
        "# Create useful fields\n",
        "df['Year'] = df['Order Date'].dt.year\n",
        "df['Month'] = df['Order Date'].dt.month_name()\n",
        "df['Profit Margin %'] = (df['Profit'] / df['Sales']).round(2)\n",
        "\n",
        "# Save cleaned file for Power BI\n",
        "output_file = \"/content/drive/MyDrive/Projects/Data files/Cleaned_Superstore.xlsx\"\n",
        "df.to_excel(output_file, index=False)\n",
        "\n",
        "print(\"✅ Cleaned file saved at:\", output_file)\n"
      ],
      "metadata": {
        "colab": {
          "base_uri": "https://localhost:8080/"
        },
        "id": "rBfbbDAg_Bwg",
        "outputId": "4d1a983e-ef25-4d85-b8b4-eab1f8fc6985"
      },
      "execution_count": 3,
      "outputs": [
        {
          "output_type": "stream",
          "name": "stdout",
          "text": [
            "   Row ID        Order ID  Order Date   Ship Date       Ship Mode Customer ID  \\\n",
            "0       1  CA-2016-152156   11/8/2016  11/11/2016    Second Class    CG-12520   \n",
            "1       2  CA-2016-152156   11/8/2016  11/11/2016    Second Class    CG-12520   \n",
            "2       3  CA-2016-138688   6/12/2016   6/16/2016    Second Class    DV-13045   \n",
            "3       4  US-2015-108966  10/11/2015  10/18/2015  Standard Class    SO-20335   \n",
            "4       5  US-2015-108966  10/11/2015  10/18/2015  Standard Class    SO-20335   \n",
            "\n",
            "     Customer Name    Segment        Country             City  ...  \\\n",
            "0      Claire Gute   Consumer  United States        Henderson  ...   \n",
            "1      Claire Gute   Consumer  United States        Henderson  ...   \n",
            "2  Darrin Van Huff  Corporate  United States      Los Angeles  ...   \n",
            "3   Sean O'Donnell   Consumer  United States  Fort Lauderdale  ...   \n",
            "4   Sean O'Donnell   Consumer  United States  Fort Lauderdale  ...   \n",
            "\n",
            "  Postal Code  Region       Product ID         Category Sub-Category  \\\n",
            "0       42420   South  FUR-BO-10001798        Furniture    Bookcases   \n",
            "1       42420   South  FUR-CH-10000454        Furniture       Chairs   \n",
            "2       90036    West  OFF-LA-10000240  Office Supplies       Labels   \n",
            "3       33311   South  FUR-TA-10000577        Furniture       Tables   \n",
            "4       33311   South  OFF-ST-10000760  Office Supplies      Storage   \n",
            "\n",
            "                                        Product Name     Sales  Quantity  \\\n",
            "0                  Bush Somerset Collection Bookcase  261.9600         2   \n",
            "1  Hon Deluxe Fabric Upholstered Stacking Chairs,...  731.9400         3   \n",
            "2  Self-Adhesive Address Labels for Typewriters b...   14.6200         2   \n",
            "3      Bretford CR4500 Series Slim Rectangular Table  957.5775         5   \n",
            "4                     Eldon Fold 'N Roll Cart System   22.3680         2   \n",
            "\n",
            "   Discount    Profit  \n",
            "0      0.00   41.9136  \n",
            "1      0.00  219.5820  \n",
            "2      0.00    6.8714  \n",
            "3      0.45 -383.0310  \n",
            "4      0.20    2.5164  \n",
            "\n",
            "[5 rows x 21 columns]\n"
          ]
        },
        {
          "output_type": "stream",
          "name": "stderr",
          "text": [
            "/tmp/ipython-input-3147175162.py:20: FutureWarning: A value is trying to be set on a copy of a DataFrame or Series through chained assignment using an inplace method.\n",
            "The behavior will change in pandas 3.0. This inplace method will never work because the intermediate object on which we are setting values always behaves as a copy.\n",
            "\n",
            "For example, when doing 'df[col].method(value, inplace=True)', try using 'df.method({col: value}, inplace=True)' or df[col] = df[col].method(value) instead, to perform the operation inplace on the original object.\n",
            "\n",
            "\n",
            "  df[col].fillna(0, inplace=True)\n"
          ]
        },
        {
          "output_type": "stream",
          "name": "stdout",
          "text": [
            "✅ Cleaned file saved at: /content/drive/MyDrive/Projects/Data files/Cleaned_Superstore.xlsx\n"
          ]
        }
      ]
    },
    {
      "cell_type": "code",
      "execution_count": 2,
      "metadata": {
        "id": "zX--5Ln07f64"
      },
      "outputs": [],
      "source": []
    }
  ]
}